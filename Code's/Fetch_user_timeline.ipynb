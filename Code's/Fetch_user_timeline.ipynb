{
  "nbformat": 4,
  "nbformat_minor": 0,
  "metadata": {
    "colab": {
      "name": "Fetch_user_timeline.ipynb",
      "provenance": []
    },
    "kernelspec": {
      "name": "python3",
      "display_name": "Python 3"
    }
  },
  "cells": [
    {
      "cell_type": "markdown",
      "metadata": {
        "id": "bUCl70rS2cs8",
        "colab_type": "text"
      },
      "source": [
        "Python Script to Fetch User Time Line\n"
      ]
    },
    {
      "cell_type": "code",
      "metadata": {
        "id": "0w7keWR-vOBp",
        "colab_type": "code",
        "colab": {}
      },
      "source": [
        "import tweepy\n",
        "# Consumer keys and access tokens, used for OAuth\n",
        "consumer_key = 'NP4oejpG6l6NviSvtybUnpP1r'\n",
        "consumer_secret = 'Qu71s8GLi14NutPiQ6eWXojmg6ZRUCQM2YRvfGEMRttEnQ8R3C'\n",
        "access_token = '1022443048394006530-4pXclq0FvI7NV9wAal2U2LigcOgmgn'\n",
        "access_token_secret = 'oW92Dz5n4cZvQJjBfJE3TuXtBDJRTxrJNYeXYvbzhoHKI'\n",
        "\n",
        "# OAuth process, using the keys and tokens\n",
        "auth = tweepy.OAuthHandler(consumer_key, consumer_secret)\n",
        "auth.set_access_token(access_token, access_token_secret)\n",
        "\n",
        "# Creation of the actual interface, using authentication\n",
        "api = tweepy.API(auth)\n",
        "\n",
        "\n",
        "tweets = []\n",
        "\n",
        "for status in tweepy.Cursor(api.user_timeline, screen_name='@TheVillaSomalia', tweet_mode=\"extended\").items():\n",
        "    #print(status)\n",
        "    # print(status._json)\n",
        "    tweets.append(status._json)"
      ],
      "execution_count": 15,
      "outputs": []
    },
    {
      "cell_type": "code",
      "metadata": {
        "id": "TI3n-64F21Xx",
        "colab_type": "code",
        "colab": {}
      },
      "source": [
        "from google.colab import drive\n",
        "drive.mount('/content/drive')"
      ],
      "execution_count": null,
      "outputs": []
    },
    {
      "cell_type": "markdown",
      "metadata": {
        "id": "GO0Cgj492baX",
        "colab_type": "text"
      },
      "source": [
        ""
      ]
    },
    {
      "cell_type": "code",
      "metadata": {
        "id": "cNbEE-6dvpji",
        "colab_type": "code",
        "colab": {
          "base_uri": "https://localhost:8080/",
          "height": 34
        },
        "outputId": "47fc0d02-4da6-405c-84aa-f2ede06742ca"
      },
      "source": [
        "len(tweets)"
      ],
      "execution_count": 16,
      "outputs": [
        {
          "output_type": "execute_result",
          "data": {
            "text/plain": [
              "604"
            ]
          },
          "metadata": {
            "tags": []
          },
          "execution_count": 16
        }
      ]
    },
    {
      "cell_type": "code",
      "metadata": {
        "id": "94HpE5owxfcZ",
        "colab_type": "code",
        "colab": {}
      },
      "source": [
        "import pandas as pd\n",
        "df = pd.DataFrame(tweets)"
      ],
      "execution_count": 17,
      "outputs": []
    },
    {
      "cell_type": "code",
      "metadata": {
        "id": "5PtJRUo0x7O2",
        "colab_type": "code",
        "colab": {
          "base_uri": "https://localhost:8080/",
          "height": 151
        },
        "outputId": "ac2685e0-fc3a-478a-f3b0-337845e17db2"
      },
      "source": [
        "df.head(1)"
      ],
      "execution_count": 18,
      "outputs": [
        {
          "output_type": "execute_result",
          "data": {
            "text/html": [
              "<div>\n",
              "<style scoped>\n",
              "    .dataframe tbody tr th:only-of-type {\n",
              "        vertical-align: middle;\n",
              "    }\n",
              "\n",
              "    .dataframe tbody tr th {\n",
              "        vertical-align: top;\n",
              "    }\n",
              "\n",
              "    .dataframe thead th {\n",
              "        text-align: right;\n",
              "    }\n",
              "</style>\n",
              "<table border=\"1\" class=\"dataframe\">\n",
              "  <thead>\n",
              "    <tr style=\"text-align: right;\">\n",
              "      <th></th>\n",
              "      <th>created_at</th>\n",
              "      <th>id</th>\n",
              "      <th>id_str</th>\n",
              "      <th>full_text</th>\n",
              "      <th>truncated</th>\n",
              "      <th>display_text_range</th>\n",
              "      <th>entities</th>\n",
              "      <th>source</th>\n",
              "      <th>in_reply_to_status_id</th>\n",
              "      <th>in_reply_to_status_id_str</th>\n",
              "      <th>in_reply_to_user_id</th>\n",
              "      <th>in_reply_to_user_id_str</th>\n",
              "      <th>in_reply_to_screen_name</th>\n",
              "      <th>user</th>\n",
              "      <th>geo</th>\n",
              "      <th>coordinates</th>\n",
              "      <th>place</th>\n",
              "      <th>contributors</th>\n",
              "      <th>is_quote_status</th>\n",
              "      <th>retweet_count</th>\n",
              "      <th>favorite_count</th>\n",
              "      <th>favorited</th>\n",
              "      <th>retweeted</th>\n",
              "      <th>lang</th>\n",
              "      <th>retweeted_status</th>\n",
              "      <th>quoted_status_id</th>\n",
              "      <th>quoted_status_id_str</th>\n",
              "      <th>quoted_status_permalink</th>\n",
              "      <th>extended_entities</th>\n",
              "      <th>possibly_sensitive</th>\n",
              "      <th>quoted_status</th>\n",
              "    </tr>\n",
              "  </thead>\n",
              "  <tbody>\n",
              "    <tr>\n",
              "      <th>0</th>\n",
              "      <td>Fri Aug 28 12:49:33 +0000 2020</td>\n",
              "      <td>1299328265404985346</td>\n",
              "      <td>1299328265404985346</td>\n",
              "      <td>Heko Dr. @akin_adesina for being elected at th...</td>\n",
              "      <td>False</td>\n",
              "      <td>[0, 277]</td>\n",
              "      <td>{'hashtags': [], 'symbols': [], 'user_mentions...</td>\n",
              "      <td>&lt;a href=\"http://twitter.com/download/iphone\" r...</td>\n",
              "      <td>NaN</td>\n",
              "      <td>None</td>\n",
              "      <td>NaN</td>\n",
              "      <td>None</td>\n",
              "      <td>None</td>\n",
              "      <td>{'id': 812627249446780928, 'id_str': '81262724...</td>\n",
              "      <td>None</td>\n",
              "      <td>None</td>\n",
              "      <td>None</td>\n",
              "      <td>None</td>\n",
              "      <td>False</td>\n",
              "      <td>145</td>\n",
              "      <td>1139</td>\n",
              "      <td>False</td>\n",
              "      <td>False</td>\n",
              "      <td>en</td>\n",
              "      <td>NaN</td>\n",
              "      <td>NaN</td>\n",
              "      <td>NaN</td>\n",
              "      <td>NaN</td>\n",
              "      <td>NaN</td>\n",
              "      <td>NaN</td>\n",
              "      <td>NaN</td>\n",
              "    </tr>\n",
              "  </tbody>\n",
              "</table>\n",
              "</div>"
            ],
            "text/plain": [
              "                       created_at  ...  quoted_status\n",
              "0  Fri Aug 28 12:49:33 +0000 2020  ...            NaN\n",
              "\n",
              "[1 rows x 31 columns]"
            ]
          },
          "metadata": {
            "tags": []
          },
          "execution_count": 18
        }
      ]
    },
    {
      "cell_type": "code",
      "metadata": {
        "id": "lnZz79GLx9SO",
        "colab_type": "code",
        "colab": {}
      },
      "source": [
        "# pd.DataFrame.to_excel('M_Farmaajo_user_timeline.xlsx')\n",
        "df.to_excel(\"TheVillaSomalia.xlsx\") "
      ],
      "execution_count": 23,
      "outputs": []
    },
    {
      "cell_type": "code",
      "metadata": {
        "id": "XeJRv1Si007k",
        "colab_type": "code",
        "colab": {}
      },
      "source": [
        ""
      ],
      "execution_count": null,
      "outputs": []
    },
    {
      "cell_type": "code",
      "metadata": {
        "id": "2ko6W35a2ZD8",
        "colab_type": "code",
        "colab": {}
      },
      "source": [
        ""
      ],
      "execution_count": null,
      "outputs": []
    },
    {
      "cell_type": "markdown",
      "metadata": {
        "id": "sfDr9OyL2aCi",
        "colab_type": "text"
      },
      "source": [
        ""
      ]
    }
  ]
}