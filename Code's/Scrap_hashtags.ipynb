{
  "nbformat": 4,
  "nbformat_minor": 0,
  "metadata": {
    "kernelspec": {
      "display_name": "Python 3",
      "language": "python",
      "name": "python3"
    },
    "language_info": {
      "codemirror_mode": {
        "name": "ipython",
        "version": 3
      },
      "file_extension": ".py",
      "mimetype": "text/x-python",
      "name": "python",
      "nbconvert_exporter": "python",
      "pygments_lexer": "ipython3",
      "version": "3.7.3"
    },
    "colab": {
      "name": "Scrap_hashtags.ipynb",
      "provenance": []
    }
  },
  "cells": [
    {
      "cell_type": "markdown",
      "metadata": {
        "id": "Yx0eHiX713pK",
        "colab_type": "text"
      },
      "source": [
        "`**SCRIPT TO FETCH HASHTAGS**`"
      ]
    },
    {
      "cell_type": "code",
      "metadata": {
        "id": "ZMsWXs-qphKe",
        "colab_type": "code",
        "colab": {}
      },
      "source": [
        "from twitter_scraper import get_tweets\n",
        "import pandas as pd\n",
        "import re\n",
        "import time"
      ],
      "execution_count": null,
      "outputs": []
    },
    {
      "cell_type": "code",
      "metadata": {
        "id": "g88ZF9OlphKk",
        "colab_type": "code",
        "colab": {}
      },
      "source": [
        "#!pip install twitter_scraper"
      ],
      "execution_count": null,
      "outputs": []
    },
    {
      "cell_type": "code",
      "metadata": {
        "id": "a9oFZ97YphKp",
        "colab_type": "code",
        "colab": {}
      },
      "source": [
        "res_list = []\n",
        "result_df = pd.DataFrame()\n",
        "keyword_list = [\"#M_Farmaajo\"] \n",
        "## other keyword such as #CoronaVirus, #covid19\n",
        "num_pages = 12\n",
        "\n",
        "for kw in keyword_list:\n",
        "    for i in range(1, num_pages+1):\n",
        "        for tweet in get_tweets( kw , pages=i):\n",
        "            tweet['time'] = str( tweet['time'])  ## convert datetime object to str \n",
        "            tweet['query_keywords'] = str(kw) \n",
        "            res_list.append(tweet)"
      ],
      "execution_count": null,
      "outputs": []
    },
    {
      "cell_type": "code",
      "metadata": {
        "id": "MMYiHqtyphKu",
        "colab_type": "code",
        "colab": {
          "base_uri": "https://localhost:8080/",
          "height": 34
        },
        "outputId": "b8331377-2bd4-4bb3-a4f0-c3957f7cfd50"
      },
      "source": [
        "len(res_list)"
      ],
      "execution_count": null,
      "outputs": [
        {
          "output_type": "execute_result",
          "data": {
            "text/plain": [
              "3276"
            ]
          },
          "metadata": {
            "tags": []
          },
          "execution_count": 6
        }
      ]
    },
    {
      "cell_type": "code",
      "metadata": {
        "id": "DQy0ojDXphKy",
        "colab_type": "code",
        "colab": {}
      },
      "source": [
        "df = pd.DataFrame(res_list)"
      ],
      "execution_count": null,
      "outputs": []
    },
    {
      "cell_type": "code",
      "metadata": {
        "id": "XzCJtRhqphK2",
        "colab_type": "code",
        "colab": {
          "base_uri": "https://localhost:8080/",
          "height": 151
        },
        "outputId": "b78fb9ee-dc31-4282-da05-f666c1bb8546"
      },
      "source": [
        "df.head(1)"
      ],
      "execution_count": null,
      "outputs": [
        {
          "output_type": "execute_result",
          "data": {
            "text/html": [
              "<div>\n",
              "<style scoped>\n",
              "    .dataframe tbody tr th:only-of-type {\n",
              "        vertical-align: middle;\n",
              "    }\n",
              "\n",
              "    .dataframe tbody tr th {\n",
              "        vertical-align: top;\n",
              "    }\n",
              "\n",
              "    .dataframe thead th {\n",
              "        text-align: right;\n",
              "    }\n",
              "</style>\n",
              "<table border=\"1\" class=\"dataframe\">\n",
              "  <thead>\n",
              "    <tr style=\"text-align: right;\">\n",
              "      <th></th>\n",
              "      <th>tweetId</th>\n",
              "      <th>tweetUrl</th>\n",
              "      <th>username</th>\n",
              "      <th>userId</th>\n",
              "      <th>isRetweet</th>\n",
              "      <th>isPinned</th>\n",
              "      <th>time</th>\n",
              "      <th>text</th>\n",
              "      <th>replies</th>\n",
              "      <th>retweets</th>\n",
              "      <th>likes</th>\n",
              "      <th>entries</th>\n",
              "      <th>query_keywords</th>\n",
              "    </tr>\n",
              "  </thead>\n",
              "  <tbody>\n",
              "    <tr>\n",
              "      <th>0</th>\n",
              "      <td>1301751516613816323</td>\n",
              "      <td>/abdu_yusufmoha/status/1301751516613816323</td>\n",
              "      <td>abdu_yusufmoha</td>\n",
              "      <td>1232196236066873344</td>\n",
              "      <td>False</td>\n",
              "      <td>False</td>\n",
              "      <td>2020-09-04 05:18:41</td>\n",
              "      <td>@M_Farmaajo has joined the league of #African ...</td>\n",
              "      <td>1</td>\n",
              "      <td>3</td>\n",
              "      <td>5</td>\n",
              "      <td>{'hashtags': ['#African', '#Somalia', '#Farmaa...</td>\n",
              "      <td>#Farmaajo</td>\n",
              "    </tr>\n",
              "  </tbody>\n",
              "</table>\n",
              "</div>"
            ],
            "text/plain": [
              "               tweetId  ... query_keywords\n",
              "0  1301751516613816323  ...      #Farmaajo\n",
              "\n",
              "[1 rows x 13 columns]"
            ]
          },
          "metadata": {
            "tags": []
          },
          "execution_count": 22
        }
      ]
    },
    {
      "cell_type": "code",
      "metadata": {
        "id": "MFHggRuZphK6",
        "colab_type": "code",
        "colab": {}
      },
      "source": [
        "#df.time.iloc[1]"
      ],
      "execution_count": null,
      "outputs": []
    },
    {
      "cell_type": "code",
      "metadata": {
        "id": "VZIM_366phK-",
        "colab_type": "code",
        "colab": {}
      },
      "source": [
        " import json\n",
        " with open('Farmajo_Farmaajo.json', 'w') as file:\n",
        "     json.dump(res_list,file)"
      ],
      "execution_count": null,
      "outputs": []
    },
    {
      "cell_type": "code",
      "metadata": {
        "id": "Z7OUmSEmphLB",
        "colab_type": "code",
        "colab": {}
      },
      "source": [
        "df.to_csv('#Farmajo_Farmaajo.csv',index=False)"
      ],
      "execution_count": null,
      "outputs": []
    },
    {
      "cell_type": "code",
      "metadata": {
        "id": "wbqmdHc7phLq",
        "colab_type": "code",
        "colab": {}
      },
      "source": [
        ""
      ],
      "execution_count": null,
      "outputs": []
    }
  ]
}