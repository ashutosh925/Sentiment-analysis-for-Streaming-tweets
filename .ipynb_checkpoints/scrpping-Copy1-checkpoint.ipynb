{
 "cells": [
  {
   "cell_type": "code",
   "execution_count": 4,
   "metadata": {},
   "outputs": [],
   "source": [
    "from twitter_scraper import get_tweets\n",
    "import pandas as pd\n",
    "import re\n",
    "import time"
   ]
  },
  {
   "cell_type": "code",
   "execution_count": 2,
   "metadata": {},
   "outputs": [],
   "source": [
    "# !pip install twitter_scraper"
   ]
  },
  {
   "cell_type": "code",
   "execution_count": 5,
   "metadata": {},
   "outputs": [
    {
     "ename": "ValueError",
     "evalue": "Oops! Either \"sleep amnesia\" does not exist or is private.",
     "output_type": "error",
     "traceback": [
      "\u001b[0;31m---------------------------------------------------------------------------\u001b[0m",
      "\u001b[0;31mKeyError\u001b[0m                                  Traceback (most recent call last)",
      "\u001b[0;32m~/anaconda3/lib/python3.7/site-packages/twitter_scraper/modules/tweets.py\u001b[0m in \u001b[0;36mgen_tweets\u001b[0;34m(pages)\u001b[0m\n\u001b[1;32m     37\u001b[0m             \u001b[0;32mtry\u001b[0m\u001b[0;34m:\u001b[0m\u001b[0;34m\u001b[0m\u001b[0;34m\u001b[0m\u001b[0m\n\u001b[0;32m---> 38\u001b[0;31m                 html = HTML(html=r.json()['items_html'],\n\u001b[0m\u001b[1;32m     39\u001b[0m                             url='bunk', default_encoding='utf-8')\n",
      "\u001b[0;31mKeyError\u001b[0m: 'items_html'",
      "\nDuring handling of the above exception, another exception occurred:\n",
      "\u001b[0;31mValueError\u001b[0m                                Traceback (most recent call last)",
      "\u001b[0;32m<ipython-input-5-eacc5fc21986>\u001b[0m in \u001b[0;36m<module>\u001b[0;34m\u001b[0m\n\u001b[1;32m      7\u001b[0m \u001b[0;32mfor\u001b[0m \u001b[0mkw\u001b[0m \u001b[0;32min\u001b[0m \u001b[0mkeyword_list\u001b[0m\u001b[0;34m:\u001b[0m\u001b[0;34m\u001b[0m\u001b[0;34m\u001b[0m\u001b[0m\n\u001b[1;32m      8\u001b[0m     \u001b[0;32mfor\u001b[0m \u001b[0mi\u001b[0m \u001b[0;32min\u001b[0m \u001b[0mrange\u001b[0m\u001b[0;34m(\u001b[0m\u001b[0;36m1\u001b[0m\u001b[0;34m,\u001b[0m \u001b[0mnum_pages\u001b[0m\u001b[0;34m+\u001b[0m\u001b[0;36m1\u001b[0m\u001b[0;34m)\u001b[0m\u001b[0;34m:\u001b[0m\u001b[0;34m\u001b[0m\u001b[0;34m\u001b[0m\u001b[0m\n\u001b[0;32m----> 9\u001b[0;31m         \u001b[0;32mfor\u001b[0m \u001b[0mtweet\u001b[0m \u001b[0;32min\u001b[0m \u001b[0mget_tweets\u001b[0m\u001b[0;34m(\u001b[0m \u001b[0mkw\u001b[0m \u001b[0;34m,\u001b[0m \u001b[0mpages\u001b[0m\u001b[0;34m=\u001b[0m\u001b[0mi\u001b[0m\u001b[0;34m)\u001b[0m\u001b[0;34m:\u001b[0m\u001b[0;34m\u001b[0m\u001b[0;34m\u001b[0m\u001b[0m\n\u001b[0m\u001b[1;32m     10\u001b[0m             \u001b[0mtweet\u001b[0m\u001b[0;34m[\u001b[0m\u001b[0;34m'time'\u001b[0m\u001b[0;34m]\u001b[0m \u001b[0;34m=\u001b[0m \u001b[0mstr\u001b[0m\u001b[0;34m(\u001b[0m \u001b[0mtweet\u001b[0m\u001b[0;34m[\u001b[0m\u001b[0;34m'time'\u001b[0m\u001b[0;34m]\u001b[0m\u001b[0;34m)\u001b[0m  \u001b[0;31m## convert datetime object to str\u001b[0m\u001b[0;34m\u001b[0m\u001b[0;34m\u001b[0m\u001b[0m\n\u001b[1;32m     11\u001b[0m             \u001b[0mtweet\u001b[0m\u001b[0;34m[\u001b[0m\u001b[0;34m'query_keywords'\u001b[0m\u001b[0;34m]\u001b[0m \u001b[0;34m=\u001b[0m \u001b[0mstr\u001b[0m\u001b[0;34m(\u001b[0m\u001b[0mkw\u001b[0m\u001b[0;34m)\u001b[0m\u001b[0;34m\u001b[0m\u001b[0;34m\u001b[0m\u001b[0m\n",
      "\u001b[0;32m~/anaconda3/lib/python3.7/site-packages/twitter_scraper/modules/tweets.py\u001b[0m in \u001b[0;36mget_tweets\u001b[0;34m(query, pages)\u001b[0m\n\u001b[1;32m    132\u001b[0m             \u001b[0mpages\u001b[0m \u001b[0;34m+=\u001b[0m \u001b[0;34m-\u001b[0m\u001b[0;36m1\u001b[0m\u001b[0;34m\u001b[0m\u001b[0;34m\u001b[0m\u001b[0m\n\u001b[1;32m    133\u001b[0m \u001b[0;34m\u001b[0m\u001b[0m\n\u001b[0;32m--> 134\u001b[0;31m     \u001b[0;32myield\u001b[0m \u001b[0;32mfrom\u001b[0m \u001b[0mgen_tweets\u001b[0m\u001b[0;34m(\u001b[0m\u001b[0mpages\u001b[0m\u001b[0;34m)\u001b[0m\u001b[0;34m\u001b[0m\u001b[0;34m\u001b[0m\u001b[0m\n\u001b[0m\u001b[1;32m    135\u001b[0m \u001b[0;34m\u001b[0m\u001b[0m\n\u001b[1;32m    136\u001b[0m \u001b[0;31m# for searching:\u001b[0m\u001b[0;34m\u001b[0m\u001b[0;34m\u001b[0m\u001b[0;34m\u001b[0m\u001b[0m\n",
      "\u001b[0;32m~/anaconda3/lib/python3.7/site-packages/twitter_scraper/modules/tweets.py\u001b[0m in \u001b[0;36mgen_tweets\u001b[0;34m(pages)\u001b[0m\n\u001b[1;32m     40\u001b[0m             \u001b[0;32mexcept\u001b[0m \u001b[0mKeyError\u001b[0m\u001b[0;34m:\u001b[0m\u001b[0;34m\u001b[0m\u001b[0;34m\u001b[0m\u001b[0m\n\u001b[1;32m     41\u001b[0m                 raise ValueError(\n\u001b[0;32m---> 42\u001b[0;31m                     f'Oops! Either \"{query}\" does not exist or is private.')\n\u001b[0m\u001b[1;32m     43\u001b[0m             \u001b[0;32mexcept\u001b[0m \u001b[0mParserError\u001b[0m\u001b[0;34m:\u001b[0m\u001b[0;34m\u001b[0m\u001b[0;34m\u001b[0m\u001b[0m\n\u001b[1;32m     44\u001b[0m                 \u001b[0;32mbreak\u001b[0m\u001b[0;34m\u001b[0m\u001b[0;34m\u001b[0m\u001b[0m\n",
      "\u001b[0;31mValueError\u001b[0m: Oops! Either \"sleep amnesia\" does not exist or is private."
     ]
    }
   ],
   "source": [
    "res_list = []\n",
    "result_df = pd.DataFrame()\n",
    "keyword_list = [\"Sleep\",\"sleep amnesia\"] \n",
    "## other keyword such as #CoronaVirus, #covid19\n",
    "num_pages = 12\n",
    "\n",
    "for kw in keyword_list:\n",
    "    for i in range(1, num_pages+1):\n",
    "        for tweet in get_tweets( kw , pages=i):\n",
    "            tweet['time'] = str( tweet['time'])  ## convert datetime object to str \n",
    "            tweet['query_keywords'] = str(kw) \n",
    "            res_list.append(tweet)"
   ]
  },
  {
   "cell_type": "code",
   "execution_count": 29,
   "metadata": {},
   "outputs": [
    {
     "data": {
      "text/plain": [
       "15125"
      ]
     },
     "execution_count": 29,
     "metadata": {},
     "output_type": "execute_result"
    }
   ],
   "source": [
    "len(res_list)"
   ]
  },
  {
   "cell_type": "code",
   "execution_count": 30,
   "metadata": {},
   "outputs": [],
   "source": [
    "df = pd.DataFrame(res_list)"
   ]
  },
  {
   "cell_type": "code",
   "execution_count": 31,
   "metadata": {},
   "outputs": [
    {
     "data": {
      "text/html": [
       "<div>\n",
       "<style scoped>\n",
       "    .dataframe tbody tr th:only-of-type {\n",
       "        vertical-align: middle;\n",
       "    }\n",
       "\n",
       "    .dataframe tbody tr th {\n",
       "        vertical-align: top;\n",
       "    }\n",
       "\n",
       "    .dataframe thead th {\n",
       "        text-align: right;\n",
       "    }\n",
       "</style>\n",
       "<table border=\"1\" class=\"dataframe\">\n",
       "  <thead>\n",
       "    <tr style=\"text-align: right;\">\n",
       "      <th></th>\n",
       "      <th>entries</th>\n",
       "      <th>isRetweet</th>\n",
       "      <th>likes</th>\n",
       "      <th>query_keywords</th>\n",
       "      <th>replies</th>\n",
       "      <th>retweets</th>\n",
       "      <th>text</th>\n",
       "      <th>time</th>\n",
       "      <th>tweetId</th>\n",
       "    </tr>\n",
       "  </thead>\n",
       "  <tbody>\n",
       "    <tr>\n",
       "      <th>0</th>\n",
       "      <td>{'hashtags': ['#HumanoidRobot', '#Robotics', '...</td>\n",
       "      <td>False</td>\n",
       "      <td>2</td>\n",
       "      <td>#educationalrobots</td>\n",
       "      <td>0</td>\n",
       "      <td>1</td>\n",
       "      <td>Scenarios of impact of Coronavirus on Humanoid...</td>\n",
       "      <td>2020-04-13 18:04:20</td>\n",
       "      <td>1249677296920743936</td>\n",
       "    </tr>\n",
       "    <tr>\n",
       "      <th>1</th>\n",
       "      <td>{'hashtags': ['#educationalrobots', '#online',...</td>\n",
       "      <td>False</td>\n",
       "      <td>1</td>\n",
       "      <td>#educationalrobots</td>\n",
       "      <td>0</td>\n",
       "      <td>0</td>\n",
       "      <td>China Has Over 230,000 Online Educational Ente...</td>\n",
       "      <td>2020-03-30 08:35:38</td>\n",
       "      <td>1244460749189251073</td>\n",
       "    </tr>\n",
       "    <tr>\n",
       "      <th>2</th>\n",
       "      <td>{'hashtags': ['#educationalrobots', '#robottec...</td>\n",
       "      <td>False</td>\n",
       "      <td>0</td>\n",
       "      <td>#educationalrobots</td>\n",
       "      <td>0</td>\n",
       "      <td>0</td>\n",
       "      <td>DJI makes push into educational robots http://...</td>\n",
       "      <td>2020-03-25 17:47:19</td>\n",
       "      <td>1242787646818131968</td>\n",
       "    </tr>\n",
       "    <tr>\n",
       "      <th>3</th>\n",
       "      <td>{'hashtags': ['#EducationalRobots'], 'urls': [...</td>\n",
       "      <td>False</td>\n",
       "      <td>0</td>\n",
       "      <td>#educationalrobots</td>\n",
       "      <td>0</td>\n",
       "      <td>0</td>\n",
       "      <td>Global #EducationalRobots Market Research Repo...</td>\n",
       "      <td>2020-03-03 15:19:42</td>\n",
       "      <td>1234777965352771585</td>\n",
       "    </tr>\n",
       "    <tr>\n",
       "      <th>4</th>\n",
       "      <td>{'hashtags': ['#EducationalRobots'], 'urls': [...</td>\n",
       "      <td>False</td>\n",
       "      <td>0</td>\n",
       "      <td>#educationalrobots</td>\n",
       "      <td>0</td>\n",
       "      <td>0</td>\n",
       "      <td>#EducationalRobots @ https://www.theexpresswir...</td>\n",
       "      <td>2020-02-10 10:53:08</td>\n",
       "      <td>1226738345864118273</td>\n",
       "    </tr>\n",
       "  </tbody>\n",
       "</table>\n",
       "</div>"
      ],
      "text/plain": [
       "                                             entries  isRetweet  likes  \\\n",
       "0  {'hashtags': ['#HumanoidRobot', '#Robotics', '...      False      2   \n",
       "1  {'hashtags': ['#educationalrobots', '#online',...      False      1   \n",
       "2  {'hashtags': ['#educationalrobots', '#robottec...      False      0   \n",
       "3  {'hashtags': ['#EducationalRobots'], 'urls': [...      False      0   \n",
       "4  {'hashtags': ['#EducationalRobots'], 'urls': [...      False      0   \n",
       "\n",
       "       query_keywords  replies  retweets  \\\n",
       "0  #educationalrobots        0         1   \n",
       "1  #educationalrobots        0         0   \n",
       "2  #educationalrobots        0         0   \n",
       "3  #educationalrobots        0         0   \n",
       "4  #educationalrobots        0         0   \n",
       "\n",
       "                                                text                 time  \\\n",
       "0  Scenarios of impact of Coronavirus on Humanoid...  2020-04-13 18:04:20   \n",
       "1  China Has Over 230,000 Online Educational Ente...  2020-03-30 08:35:38   \n",
       "2  DJI makes push into educational robots http://...  2020-03-25 17:47:19   \n",
       "3  Global #EducationalRobots Market Research Repo...  2020-03-03 15:19:42   \n",
       "4  #EducationalRobots @ https://www.theexpresswir...  2020-02-10 10:53:08   \n",
       "\n",
       "               tweetId  \n",
       "0  1249677296920743936  \n",
       "1  1244460749189251073  \n",
       "2  1242787646818131968  \n",
       "3  1234777965352771585  \n",
       "4  1226738345864118273  "
      ]
     },
     "execution_count": 31,
     "metadata": {},
     "output_type": "execute_result"
    }
   ],
   "source": [
    "df.head()"
   ]
  },
  {
   "cell_type": "code",
   "execution_count": 32,
   "metadata": {},
   "outputs": [
    {
     "data": {
      "text/plain": [
       "'2020-03-30 08:35:38'"
      ]
     },
     "execution_count": 32,
     "metadata": {},
     "output_type": "execute_result"
    }
   ],
   "source": [
    "df.time.iloc[1]"
   ]
  },
  {
   "cell_type": "code",
   "execution_count": 33,
   "metadata": {},
   "outputs": [],
   "source": [
    "# import json\n",
    "# with open('educationalRobot_data.json', 'w') as file:\n",
    "#     json.dump(res_list,file)"
   ]
  },
  {
   "cell_type": "code",
   "execution_count": 34,
   "metadata": {},
   "outputs": [],
   "source": [
    "#df.to_csv('educationalRobot_data_with_date.csv',index=False)"
   ]
  },
  {
   "cell_type": "code",
   "execution_count": 35,
   "metadata": {},
   "outputs": [],
   "source": [
    "# ,\"#roboteducation\",\"#educational-robots\",\n",
    "#                 \"@iRobotEducation\", \"@RobotShop\", \"@roboteducation\",\"@EducationRobot\""
   ]
  },
  {
   "cell_type": "code",
   "execution_count": 36,
   "metadata": {},
   "outputs": [],
   "source": [
    "unique_df = pd.DataFrame(columns=['text','date'])"
   ]
  },
  {
   "cell_type": "code",
   "execution_count": 37,
   "metadata": {},
   "outputs": [],
   "source": [
    "tweet_list = []\n",
    "text_list = []\n",
    "i=0\n",
    "for text in df['text']:\n",
    "    if text not in  text_list:\n",
    "        tweet_list.append({'text':text,'date':df.time.iloc[i]})\n",
    "        text_list.append(text)\n",
    "    \n",
    "    i = i + 1\n",
    "#         unique_df['text'].append(text)\n",
    "#         unique_df['date'].append(time)\n",
    "#         unique_text"
   ]
  },
  {
   "cell_type": "code",
   "execution_count": 38,
   "metadata": {},
   "outputs": [
    {
     "data": {
      "text/plain": [
       "760"
      ]
     },
     "execution_count": 38,
     "metadata": {},
     "output_type": "execute_result"
    }
   ],
   "source": [
    "len(tweet_list)"
   ]
  },
  {
   "cell_type": "code",
   "execution_count": 42,
   "metadata": {},
   "outputs": [],
   "source": [
    "data = pd.DataFrame(tweet_list)"
   ]
  },
  {
   "cell_type": "code",
   "execution_count": 43,
   "metadata": {},
   "outputs": [
    {
     "data": {
      "text/html": [
       "<div>\n",
       "<style scoped>\n",
       "    .dataframe tbody tr th:only-of-type {\n",
       "        vertical-align: middle;\n",
       "    }\n",
       "\n",
       "    .dataframe tbody tr th {\n",
       "        vertical-align: top;\n",
       "    }\n",
       "\n",
       "    .dataframe thead th {\n",
       "        text-align: right;\n",
       "    }\n",
       "</style>\n",
       "<table border=\"1\" class=\"dataframe\">\n",
       "  <thead>\n",
       "    <tr style=\"text-align: right;\">\n",
       "      <th></th>\n",
       "      <th>date</th>\n",
       "      <th>text</th>\n",
       "    </tr>\n",
       "  </thead>\n",
       "  <tbody>\n",
       "    <tr>\n",
       "      <th>0</th>\n",
       "      <td>2020-04-13 18:04:20</td>\n",
       "      <td>Scenarios of impact of Coronavirus on Humanoid...</td>\n",
       "    </tr>\n",
       "    <tr>\n",
       "      <th>1</th>\n",
       "      <td>2020-03-30 08:35:38</td>\n",
       "      <td>China Has Over 230,000 Online Educational Ente...</td>\n",
       "    </tr>\n",
       "  </tbody>\n",
       "</table>\n",
       "</div>"
      ],
      "text/plain": [
       "                  date                                               text\n",
       "0  2020-04-13 18:04:20  Scenarios of impact of Coronavirus on Humanoid...\n",
       "1  2020-03-30 08:35:38  China Has Over 230,000 Online Educational Ente..."
      ]
     },
     "execution_count": 43,
     "metadata": {},
     "output_type": "execute_result"
    }
   ],
   "source": [
    "data.head(2)"
   ]
  },
  {
   "cell_type": "code",
   "execution_count": 44,
   "metadata": {},
   "outputs": [
    {
     "data": {
      "text/plain": [
       "(760, 2)"
      ]
     },
     "execution_count": 44,
     "metadata": {},
     "output_type": "execute_result"
    }
   ],
   "source": [
    "data.shape"
   ]
  },
  {
   "cell_type": "code",
   "execution_count": 46,
   "metadata": {},
   "outputs": [],
   "source": [
    "data.to_csv('data_with_date.csv',index=False)"
   ]
  },
  {
   "cell_type": "code",
   "execution_count": 47,
   "metadata": {},
   "outputs": [],
   "source": [
    "import matplotlib.pyplot as plt"
   ]
  },
  {
   "cell_type": "code",
   "execution_count": 49,
   "metadata": {},
   "outputs": [
    {
     "data": {
      "image/png": "[encoded data removed]",
      "text/plain": [
       "<Figure size 432x288 with 1 Axes>"
      ]
     },
     "metadata": {},
     "output_type": "display_data"
    }
   ],
   "source": [
    "# Pie chart, where the slices will be ordered and plotted counter-clockwise:\n",
    "labels = 'Positive', 'Negative', 'Neutral'\n",
    "sizes = [13, 113, 4]\n",
    "explode = (0, 0, 0)  # only \"explode\" the 2nd slice (i.e. 'Hogs')\n",
    "\n",
    "fig1, ax1 = plt.subplots()\n",
    "ax1.pie(sizes, explode=explode, labels=labels, autopct='%1.1f%%',\n",
    "        shadow=True, startangle=90)\n",
    "ax1.axis('equal')  # Equal aspect ratio ensures that pie is drawn as a circle.\n",
    "\n",
    "plt.show()\n"
   ]
  },
  {
   "cell_type": "code",
   "execution_count": null,
   "metadata": {},
   "outputs": [],
   "source": []
  }
 ],
 "metadata": {
  "kernelspec": {
   "display_name": "Python 3",
   "language": "python",
   "name": "python3"
  },
  "language_info": {
   "codemirror_mode": {
    "name": "ipython",
    "version": 3
   },
   "file_extension": ".py",
   "mimetype": "text/x-python",
   "name": "python",
   "nbconvert_exporter": "python",
   "pygments_lexer": "ipython3",
   "version": "3.7.3"
  }
 },
 "nbformat": 4,
 "nbformat_minor": 2
}
